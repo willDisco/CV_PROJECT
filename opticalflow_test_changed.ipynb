{
 "cells": [
  {
   "cell_type": "code",
   "execution_count": 1,
   "metadata": {},
   "outputs": [
    {
     "data": {
      "text/plain": [
       "'c:\\\\Users\\\\keert\\\\OneDrive\\\\Documents\\\\JHUSenior\\\\ComputerVision\\\\hw1\\\\project'"
      ]
     },
     "execution_count": 1,
     "metadata": {},
     "output_type": "execute_result"
    }
   ],
   "source": [
    "%pwd"
   ]
  },
  {
   "cell_type": "code",
   "execution_count": 31,
   "metadata": {},
   "outputs": [],
   "source": [
    "import os\n",
    "import matplotlib.pyplot as plt\n",
    "import cv2\n",
    "import numpy as np\n",
    "import imageio"
   ]
  },
  {
   "cell_type": "code",
   "execution_count": 44,
   "metadata": {},
   "outputs": [
    {
     "name": "stdout",
     "output_type": "stream",
     "text": [
      "150\n",
      "(240, 360, 3)\n"
     ]
    }
   ],
   "source": [
    "dataset_type = \"UCSD\"\n",
    "\n",
    "if dataset_type == \"UCSD\":\n",
    "    dataset = \"Data/Train016/\"\n",
    "    arr = os.listdir(dataset)\n",
    "    arr.sort(key=lambda f: int(''.join(filter(str.isdigit, f))))\n",
    "    print(len(arr))\n",
    "\n",
    "    # first frame\n",
    "    first_frame = cv2.imread(dataset + arr[0])\n",
    "    print(first_frame.shape)"
   ]
  },
  {
   "cell_type": "code",
   "execution_count": 45,
   "metadata": {},
   "outputs": [],
   "source": [
    "# generate initial corners of detected object\n",
    "# set limit, minimum distance in pixels and quality of object corner to be tracked\n",
    "parameters_shitomasi = dict(maxCorners=100, qualityLevel=0.3, minDistance=7)\n",
    "\n",
    "# convert to grayscale\n",
    "frame_gray_init = cv2.cvtColor(first_frame, cv2.COLOR_BGR2GRAY)\n",
    "\n",
    "# Use Shi-Tomasi to detect object corners / edges from initial frame\n",
    "edges = cv2.goodFeaturesToTrack(frame_gray_init, mask = None, **parameters_shitomasi)\n",
    "\n",
    "# create a black canvas the size of the initial frame\n",
    "canvas = np.zeros_like(first_frame)\n",
    "\n",
    "# set min size of tracked object, e.g. 15x15px\n",
    "parameter_lucas_kanade = dict(winSize=(15, 15), maxLevel=2, criteria=(cv2.TERM_CRITERIA_EPS | cv2.TERM_CRITERIA_COUNT, 10, 0.03))"
   ]
  },
  {
   "cell_type": "code",
   "execution_count": 47,
   "metadata": {},
   "outputs": [
    {
     "name": "stdout",
     "output_type": "stream",
     "text": [
      "150\n"
     ]
    }
   ],
   "source": [
    "image_list = []\n",
    "# image_list.append(first_frame)\n",
    "for i in range(1, len(arr)):\n",
    "    # get next frame\n",
    "    if dataset_type == \"UCSD\":\n",
    "        frame = cv2.imread(dataset + arr[i])\n",
    "    # prepare grayscale image\n",
    "    frame_gray = cv2.cvtColor(frame, cv2.COLOR_BGR2GRAY)\n",
    "    # update object corners by comparing with found edges in initial frame\n",
    "    update_edges, status, errors = cv2.calcOpticalFlowPyrLK(frame_gray_init, frame_gray, edges, None,\n",
    "                                                         **parameter_lucas_kanade)\n",
    "    # only update edges if algorithm successfully tracked\n",
    "    new_edges = update_edges[status == 1]\n",
    "    # to calculate directional flow we need to compare with previous position\n",
    "    old_edges = edges[status == 1]\n",
    "\n",
    "    canvas[canvas > 10] -= 10\n",
    "    for i, (new, old) in enumerate(zip(new_edges, old_edges)):\n",
    "        a, b = new.ravel()\n",
    "        c, d = old.ravel()\n",
    "\n",
    "        # draw line between old and new corner point with random colour\n",
    "        mask = cv2.line(canvas, (int(a), int(b)), (int(c), int(d)), [254, 254, 254], 2)\n",
    "        # draw circle around new position\n",
    "        frame = cv2.circle(frame, (int(a), int(b)), 5, [254, 254, 254], -1)\n",
    "\n",
    "    # result = cv2.add(frame, mask)\n",
    "    result = mask.copy()\n",
    "    image_list.append(result)\n",
    "    cv2.imshow('Optical Flow (sparse)', result)\n",
    "    if cv2.waitKey(1) & 0xFF == ord('q'):\n",
    "        break\n",
    "    # overwrite initial frame with current before restarting the loop\n",
    "    frame_gray_init = frame_gray.copy()\n",
    "    # update to new edges before restarting the loop\n",
    "    edges = new_edges.reshape(-1, 1, 2)\n",
    "\n",
    "cv2.destroyAllWindows()\n",
    "print(len(image_list))\n",
    "imageio.mimsave(\"OpticalFlowTrack.gif\", image_list, fps=30)"
   ]
  },
  {
   "cell_type": "code",
   "execution_count": 14,
   "metadata": {},
   "outputs": [],
   "source": [
    "cap = cv2.VideoCapture(0)\n",
    "cap.set(3,640)\n",
    "cap.set(4,480)\n",
    "# 240, 360\n",
    "\n",
    "fourcc = cv2.VideoWriter_fourcc(*'MP4V')\n",
    "out = cv2.VideoWriter('output.mp4', fourcc, 20.0, (640,480))\n",
    "\n",
    "while(True):\n",
    "    ret, frame = cap.read()\n",
    "    out.write(frame)\n",
    "    cv2.imshow('frame', frame)\n",
    "    c = cv2.waitKey(1)\n",
    "    if c & 0xFF == ord('q'):\n",
    "        break\n",
    "\n",
    "cap.release()\n",
    "out.release()\n",
    "cv2.destroyAllWindows()"
   ]
  },
  {
   "cell_type": "code",
   "execution_count": 48,
   "metadata": {},
   "outputs": [
    {
     "name": "stdout",
     "output_type": "stream",
     "text": [
      "(240, 360, 3)\n"
     ]
    }
   ],
   "source": [
    "print(image_list[0].shape)"
   ]
  },
  {
   "cell_type": "code",
   "execution_count": 51,
   "metadata": {},
   "outputs": [],
   "source": [
    "fourcc = cv2.VideoWriter_fourcc(*'mp4v')\n",
    "out = cv2.VideoWriter('output.mp4', fourcc, 20.0, (360,240))\n",
    "\n",
    "for i in range(len(image_list)):\n",
    "    out.write(image_list[i])\n",
    "    c = cv2.waitKey(1)\n",
    "    if c & 0xFF == ord('q'):\n",
    "        break\n",
    "\n",
    "cap.release()\n",
    "out.release()\n",
    "cv2.destroyAllWindows()"
   ]
  }
 ],
 "metadata": {
  "kernelspec": {
   "display_name": "cv",
   "language": "python",
   "name": "python3"
  },
  "language_info": {
   "codemirror_mode": {
    "name": "ipython",
    "version": 3
   },
   "file_extension": ".py",
   "mimetype": "text/x-python",
   "name": "python",
   "nbconvert_exporter": "python",
   "pygments_lexer": "ipython3",
   "version": "3.8.10"
  }
 },
 "nbformat": 4,
 "nbformat_minor": 2
}
